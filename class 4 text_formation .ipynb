{
 "cells": [
  {
   "cell_type": "code",
   "execution_count": 1,
   "id": "ef6868fd",
   "metadata": {},
   "outputs": [],
   "source": [
    "student_name = \"Sheza\""
   ]
  },
  {
   "cell_type": "code",
   "execution_count": 4,
   "id": "19da7524",
   "metadata": {},
   "outputs": [
    {
     "name": "stdout",
     "output_type": "stream",
     "text": [
      "Sheza\n"
     ]
    }
   ],
   "source": [
    "student_name = \"Sheza\"\n",
    "print(student_name)"
   ]
  },
  {
   "cell_type": "code",
   "execution_count": 5,
   "id": "433f6e47",
   "metadata": {},
   "outputs": [
    {
     "name": "stdout",
     "output_type": "stream",
     "text": [
      "\n",
      "Student Name= _______\n",
      "Student Fathers Name = ________\n",
      "Batch = _______\n",
      "Age = ________\n",
      "Date_of_Admission = ___________\n",
      "University_Name = _______________\n",
      "Class_Timing = _____________\n",
      "\n"
     ]
    }
   ],
   "source": [
    "Student_Name = \"Sheza\"\n",
    "Student_Fathers_Name = \"Shams-ul-Islam\"\n",
    "Batch = \"04\"\n",
    "Age = 31\n",
    "Date_of_Admission = \"2022-01-16\"\n",
    "University_Name = \"NEDUET\"\n",
    "Class_Timing = \"5:15 to 7:15\"\n",
    "\n",
    "student_card = '''\n",
    "Student Name= _______\n",
    "Student Fathers Name = ________\n",
    "Batch = _______\n",
    "Age = ________\n",
    "Date_of_Admission = ___________\n",
    "University_Name = _______________\n",
    "Class_Timing = _____________\n",
    "'''\n",
    "printStudent_Name = \"Sheza\"\n",
    "Student_Fathers_Name = \"Shams-ul-Islam\"\n",
    "Batch = \"04\"\n",
    "Age = 31\n",
    "Date_of_Admission = \"2022-01-16\"\n",
    "University_Name = \"NEDUET\"\n",
    "Class_Timing = \"5:15 to 7:15\"\n",
    "\n",
    "student_card = '''\n",
    "Student Name= _______\n",
    "Student Fathers Name = ________\n",
    "Batch = _______\n",
    "Age = ________\n",
    "Date_of_Admission = ___________\n",
    "University_Name = _______________\n",
    "Class_Timing = _____________\n",
    "'''\n",
    "print(student_card)"
   ]
  },
  {
   "cell_type": "code",
   "execution_count": 15,
   "id": "f222c259",
   "metadata": {
    "scrolled": true
   },
   "outputs": [
    {
     "name": "stdout",
     "output_type": "stream",
     "text": [
      "\n",
      "Student Name: Sheza\n",
      "Student Fathers Name : Shams-ul-Islam\n",
      "Batch : 04\n",
      "Age : 31\n",
      "Date_of_Admission : 2022-01-16\n",
      "University_Name : NEDUET\n",
      "Class_Timing : 5:15 to 7:15\n",
      "\n"
     ]
    }
   ],
   "source": [
    "Student_Name = \"Sheza\"\n",
    "Student_Fathers_Name = \"Shams-ul-Islam\"\n",
    "Batch = \"04\"\n",
    "Age = 31\n",
    "Date_of_Admission = \"2022-01-16\"\n",
    "University_Name = \"NEDUET\"\n",
    "Class_Timing = \"5:15 to 7:15\"\n",
    "\n",
    "card =\"\"\"\n",
    "Student Name: \"\"\"+str(Student_Name)+\"\"\"\n",
    "Student Fathers Name : \"\"\"+str(Student_Fathers_Name)+\"\"\"\n",
    "Batch : \"\"\"+str(Batch)+\"\"\"\n",
    "Age : \"\"\"+str(Age)+\"\"\"\n",
    "Date_of_Admission : \"\"\"+str(Date_of_Admission)+\"\"\"\n",
    "University_Name : \"\"\"+str(University_Name)+\"\"\"\n",
    "Class_Timing : \"\"\"+str(Class_Timing)+\"\"\"\n",
    "\"\"\"\n",
    "print(card)"
   ]
  },
  {
   "cell_type": "markdown",
   "id": "19d78a93",
   "metadata": {},
   "source": [
    "# Using .format (sequence wise)"
   ]
  },
  {
   "cell_type": "code",
   "execution_count": 16,
   "id": "61095b01",
   "metadata": {},
   "outputs": [
    {
     "name": "stdout",
     "output_type": "stream",
     "text": [
      "\n",
      "Student Name= Sheza\n",
      "Student Fathers Name = Shams-ul-Islam\n",
      "Batch = 04\n",
      "Age = 31\n",
      "Date_of_Admission = 2022-01-16 University_Name = NEDUET\n",
      "Class_Timing = 5:15 to 7:15\n",
      "\n"
     ]
    }
   ],
   "source": [
    "Student_Name = \"Sheza\"\n",
    "Student_Fathers_Name = \"Shams-ul-Islam\"\n",
    "Batch = \"04\"\n",
    "Age = 31\n",
    "Date_of_Admission = \"2022-01-16\"\n",
    "University_Name = \"NEDUET\"\n",
    "Class_Timing = \"5:15 to 7:15\"\n",
    "\n",
    "card = \"\"\"\n",
    "Student Name= {}\n",
    "Student Fathers Name = {}\n",
    "Batch = {}\n",
    "Age = {}\n",
    "Date_of_Admission = {} University_Name = {}\n",
    "Class_Timing = {}\n",
    "\"\"\".format(Student_Name,Student_Fathers_Name,Batch,Age,Date_of_Admission,University_Name,Class_Timing)\n",
    "\n",
    "print(card)"
   ]
  },
  {
   "cell_type": "markdown",
   "id": "e10b8a69",
   "metadata": {},
   "source": [
    "# f\"paksitan{Variable_Name}\"\""
   ]
  },
  {
   "cell_type": "code",
   "execution_count": 17,
   "id": "234d8ad6",
   "metadata": {},
   "outputs": [
    {
     "name": "stdout",
     "output_type": "stream",
     "text": [
      "\n",
      "Student Name= Sheza\n",
      "Student Fathers Name = Shams-ul-Islam\n",
      "Batch = 04\n",
      "Age = 31\n",
      "Date_of_Admission = 2022-01-16 University_Name = NEDUET\n",
      "Class_Timing = 5:15 to 7:15\n",
      "\n"
     ]
    }
   ],
   "source": [
    "Student_Name = \"Sheza\"\n",
    "Student_Fathers_Name = \"Shams-ul-Islam\"\n",
    "Batch = \"04\"\n",
    "Age = 31\n",
    "Date_of_Admission = \"2022-01-16\"\n",
    "University_Name = \"NEDUET\"\n",
    "Class_Timing = \"5:15 to 7:15\"\n",
    "\n",
    "card = f\"\"\"\n",
    "Student Name= {Student_Name}\n",
    "Student Fathers Name = {Student_Fathers_Name}\n",
    "Batch = {Batch}\n",
    "Age = {Age}\n",
    "Date_of_Admission = {Date_of_Admission} University_Name = {University_Name}\n",
    "Class_Timing = {Class_Timing}\n",
    "\"\"\"\n",
    "print(card)"
   ]
  },
  {
   "cell_type": "markdown",
   "id": "3f5d7172",
   "metadata": {},
   "source": [
    "# OLD METHOD  FOR FORMATION TEXT"
   ]
  },
  {
   "cell_type": "code",
   "execution_count": 19,
   "id": "c866edfd",
   "metadata": {},
   "outputs": [
    {
     "data": {
      "text/plain": [
       "'Student Name Sheza'"
      ]
     },
     "execution_count": 19,
     "metadata": {},
     "output_type": "execute_result"
    }
   ],
   "source": [
    "\"Student Name %s\" % (student_name)"
   ]
  },
  {
   "cell_type": "code",
   "execution_count": 21,
   "id": "a6f21738",
   "metadata": {},
   "outputs": [
    {
     "name": "stdout",
     "output_type": "stream",
     "text": [
      "\n",
      "Student Name= Sheza\n",
      "Student Fathers Name = Shams-ul-Islam\n",
      "Batch = 04\n",
      "Age = 31\n",
      "Date_of_Admission = 2022-01-16 University_Name = NEDUET\n",
      "Class_Timing = 5:15 to 7:15\n",
      "\n"
     ]
    }
   ],
   "source": [
    "Student_Name = \"Sheza\"\n",
    "Student_Fathers_Name = \"Shams-ul-Islam\"\n",
    "Batch = \"04\"\n",
    "Age = 31\n",
    "Date_of_Admission = \"2022-01-16\"\n",
    "University_Name = \"NEDUET\"\n",
    "Class_Timing = \"5:15 to 7:15\"\n",
    "\n",
    "card = \"\"\"\n",
    "Student Name= %s\n",
    "Student Fathers Name = %s\n",
    "Batch = %s\n",
    "Age = %d\n",
    "Date_of_Admission = %s University_Name = %s\n",
    "Class_Timing = %s\n",
    "\"\"\" % (Student_Name,Student_Fathers_Name,Batch,Age,Date_of_Admission,University_Name,Class_Timing)\n",
    "\n",
    "print(card)"
   ]
  },
  {
   "cell_type": "markdown",
   "id": "e3575f23",
   "metadata": {},
   "source": [
    "# METHOD LIST OF DATA TYPE"
   ]
  },
  {
   "cell_type": "code",
   "execution_count": 22,
   "id": "7b951bc7",
   "metadata": {},
   "outputs": [
    {
     "data": {
      "text/plain": [
       "['__add__',\n",
       " '__class__',\n",
       " '__contains__',\n",
       " '__delattr__',\n",
       " '__dir__',\n",
       " '__doc__',\n",
       " '__eq__',\n",
       " '__format__',\n",
       " '__ge__',\n",
       " '__getattribute__',\n",
       " '__getitem__',\n",
       " '__getnewargs__',\n",
       " '__gt__',\n",
       " '__hash__',\n",
       " '__init__',\n",
       " '__init_subclass__',\n",
       " '__iter__',\n",
       " '__le__',\n",
       " '__len__',\n",
       " '__lt__',\n",
       " '__mod__',\n",
       " '__mul__',\n",
       " '__ne__',\n",
       " '__new__',\n",
       " '__reduce__',\n",
       " '__reduce_ex__',\n",
       " '__repr__',\n",
       " '__rmod__',\n",
       " '__rmul__',\n",
       " '__setattr__',\n",
       " '__sizeof__',\n",
       " '__str__',\n",
       " '__subclasshook__',\n",
       " 'capitalize',\n",
       " 'casefold',\n",
       " 'center',\n",
       " 'count',\n",
       " 'encode',\n",
       " 'endswith',\n",
       " 'expandtabs',\n",
       " 'find',\n",
       " 'format',\n",
       " 'format_map',\n",
       " 'index',\n",
       " 'isalnum',\n",
       " 'isalpha',\n",
       " 'isascii',\n",
       " 'isdecimal',\n",
       " 'isdigit',\n",
       " 'isidentifier',\n",
       " 'islower',\n",
       " 'isnumeric',\n",
       " 'isprintable',\n",
       " 'isspace',\n",
       " 'istitle',\n",
       " 'isupper',\n",
       " 'join',\n",
       " 'ljust',\n",
       " 'lower',\n",
       " 'lstrip',\n",
       " 'maketrans',\n",
       " 'partition',\n",
       " 'removeprefix',\n",
       " 'removesuffix',\n",
       " 'replace',\n",
       " 'rfind',\n",
       " 'rindex',\n",
       " 'rjust',\n",
       " 'rpartition',\n",
       " 'rsplit',\n",
       " 'rstrip',\n",
       " 'split',\n",
       " 'splitlines',\n",
       " 'startswith',\n",
       " 'strip',\n",
       " 'swapcase',\n",
       " 'title',\n",
       " 'translate',\n",
       " 'upper',\n",
       " 'zfill']"
      ]
     },
     "execution_count": 22,
     "metadata": {},
     "output_type": "execute_result"
    }
   ],
   "source": [
    "dir(str)"
   ]
  },
  {
   "cell_type": "code",
   "execution_count": 26,
   "id": "5ab7f0e2",
   "metadata": {},
   "outputs": [
    {
     "data": {
      "text/plain": [
       "['__abs__',\n",
       " '__add__',\n",
       " '__and__',\n",
       " '__bool__',\n",
       " '__ceil__',\n",
       " '__class__',\n",
       " '__delattr__',\n",
       " '__dir__',\n",
       " '__divmod__',\n",
       " '__doc__',\n",
       " '__eq__',\n",
       " '__float__',\n",
       " '__floor__',\n",
       " '__floordiv__',\n",
       " '__format__',\n",
       " '__ge__',\n",
       " '__getattribute__',\n",
       " '__getnewargs__',\n",
       " '__gt__',\n",
       " '__hash__',\n",
       " '__index__',\n",
       " '__init__',\n",
       " '__init_subclass__',\n",
       " '__int__',\n",
       " '__invert__',\n",
       " '__le__',\n",
       " '__lshift__',\n",
       " '__lt__',\n",
       " '__mod__',\n",
       " '__mul__',\n",
       " '__ne__',\n",
       " '__neg__',\n",
       " '__new__',\n",
       " '__or__',\n",
       " '__pos__',\n",
       " '__pow__',\n",
       " '__radd__',\n",
       " '__rand__',\n",
       " '__rdivmod__',\n",
       " '__reduce__',\n",
       " '__reduce_ex__',\n",
       " '__repr__',\n",
       " '__rfloordiv__',\n",
       " '__rlshift__',\n",
       " '__rmod__',\n",
       " '__rmul__',\n",
       " '__ror__',\n",
       " '__round__',\n",
       " '__rpow__',\n",
       " '__rrshift__',\n",
       " '__rshift__',\n",
       " '__rsub__',\n",
       " '__rtruediv__',\n",
       " '__rxor__',\n",
       " '__setattr__',\n",
       " '__sizeof__',\n",
       " '__str__',\n",
       " '__sub__',\n",
       " '__subclasshook__',\n",
       " '__truediv__',\n",
       " '__trunc__',\n",
       " '__xor__',\n",
       " 'as_integer_ratio',\n",
       " 'bit_length',\n",
       " 'conjugate',\n",
       " 'denominator',\n",
       " 'from_bytes',\n",
       " 'imag',\n",
       " 'numerator',\n",
       " 'real',\n",
       " 'to_bytes']"
      ]
     },
     "execution_count": 26,
     "metadata": {},
     "output_type": "execute_result"
    }
   ],
   "source": [
    "dir(int)"
   ]
  },
  {
   "cell_type": "code",
   "execution_count": 27,
   "id": "a56bd83d",
   "metadata": {},
   "outputs": [
    {
     "data": {
      "text/plain": [
       "['__add__',\n",
       " '__class__',\n",
       " '__class_getitem__',\n",
       " '__contains__',\n",
       " '__delattr__',\n",
       " '__delitem__',\n",
       " '__dir__',\n",
       " '__doc__',\n",
       " '__eq__',\n",
       " '__format__',\n",
       " '__ge__',\n",
       " '__getattribute__',\n",
       " '__getitem__',\n",
       " '__gt__',\n",
       " '__hash__',\n",
       " '__iadd__',\n",
       " '__imul__',\n",
       " '__init__',\n",
       " '__init_subclass__',\n",
       " '__iter__',\n",
       " '__le__',\n",
       " '__len__',\n",
       " '__lt__',\n",
       " '__mul__',\n",
       " '__ne__',\n",
       " '__new__',\n",
       " '__reduce__',\n",
       " '__reduce_ex__',\n",
       " '__repr__',\n",
       " '__reversed__',\n",
       " '__rmul__',\n",
       " '__setattr__',\n",
       " '__setitem__',\n",
       " '__sizeof__',\n",
       " '__str__',\n",
       " '__subclasshook__',\n",
       " 'append',\n",
       " 'clear',\n",
       " 'copy',\n",
       " 'count',\n",
       " 'extend',\n",
       " 'index',\n",
       " 'insert',\n",
       " 'pop',\n",
       " 'remove',\n",
       " 'reverse',\n",
       " 'sort']"
      ]
     },
     "execution_count": 27,
     "metadata": {},
     "output_type": "execute_result"
    }
   ],
   "source": [
    "dir(list)"
   ]
  },
  {
   "cell_type": "code",
   "execution_count": 25,
   "id": "501476fc",
   "metadata": {},
   "outputs": [
    {
     "name": "stdout",
     "output_type": "stream",
     "text": [
      "Sheza Shams\n"
     ]
    }
   ],
   "source": [
    "a = \"Sheza Shams\"\n",
    "print (a)"
   ]
  },
  {
   "cell_type": "code",
   "execution_count": 28,
   "id": "34649881",
   "metadata": {},
   "outputs": [
    {
     "data": {
      "text/plain": [
       "['__add__',\n",
       " '__class__',\n",
       " '__contains__',\n",
       " '__delattr__',\n",
       " '__dir__',\n",
       " '__doc__',\n",
       " '__eq__',\n",
       " '__format__',\n",
       " '__ge__',\n",
       " '__getattribute__',\n",
       " '__getitem__',\n",
       " '__getnewargs__',\n",
       " '__gt__',\n",
       " '__hash__',\n",
       " '__init__',\n",
       " '__init_subclass__',\n",
       " '__iter__',\n",
       " '__le__',\n",
       " '__len__',\n",
       " '__lt__',\n",
       " '__mod__',\n",
       " '__mul__',\n",
       " '__ne__',\n",
       " '__new__',\n",
       " '__reduce__',\n",
       " '__reduce_ex__',\n",
       " '__repr__',\n",
       " '__rmod__',\n",
       " '__rmul__',\n",
       " '__setattr__',\n",
       " '__sizeof__',\n",
       " '__str__',\n",
       " '__subclasshook__',\n",
       " 'capitalize',\n",
       " 'casefold',\n",
       " 'center',\n",
       " 'count',\n",
       " 'encode',\n",
       " 'endswith',\n",
       " 'expandtabs',\n",
       " 'find',\n",
       " 'format',\n",
       " 'format_map',\n",
       " 'index',\n",
       " 'isalnum',\n",
       " 'isalpha',\n",
       " 'isascii',\n",
       " 'isdecimal',\n",
       " 'isdigit',\n",
       " 'isidentifier',\n",
       " 'islower',\n",
       " 'isnumeric',\n",
       " 'isprintable',\n",
       " 'isspace',\n",
       " 'istitle',\n",
       " 'isupper',\n",
       " 'join',\n",
       " 'ljust',\n",
       " 'lower',\n",
       " 'lstrip',\n",
       " 'maketrans',\n",
       " 'partition',\n",
       " 'removeprefix',\n",
       " 'removesuffix',\n",
       " 'replace',\n",
       " 'rfind',\n",
       " 'rindex',\n",
       " 'rjust',\n",
       " 'rpartition',\n",
       " 'rsplit',\n",
       " 'rstrip',\n",
       " 'split',\n",
       " 'splitlines',\n",
       " 'startswith',\n",
       " 'strip',\n",
       " 'swapcase',\n",
       " 'title',\n",
       " 'translate',\n",
       " 'upper',\n",
       " 'zfill']"
      ]
     },
     "execution_count": 28,
     "metadata": {},
     "output_type": "execute_result"
    }
   ],
   "source": [
    "a = \"Sheza Shams\"\n",
    "dir(a)"
   ]
  },
  {
   "cell_type": "code",
   "execution_count": 29,
   "id": "a111670d",
   "metadata": {},
   "outputs": [
    {
     "name": "stdout",
     "output_type": "stream",
     "text": [
      "Pakistan zindabad\n"
     ]
    }
   ],
   "source": [
    "a = \"Pakistan ZindaBad\" #it will do sentence case\n",
    "print (a.capitalize())"
   ]
  },
  {
   "cell_type": "code",
   "execution_count": 30,
   "id": "0cac887c",
   "metadata": {},
   "outputs": [
    {
     "name": "stdout",
     "output_type": "stream",
     "text": [
      "pakistan zindabad\n"
     ]
    }
   ],
   "source": [
    "a = \"Pakistan ZindaBad\" #all small letters\n",
    "print(a.casefold())"
   ]
  },
  {
   "cell_type": "code",
   "execution_count": 33,
   "id": "b3ac303b",
   "metadata": {},
   "outputs": [
    {
     "name": "stdout",
     "output_type": "stream",
     "text": [
      "                             Pakistan ZindaBad                             \n"
     ]
    }
   ],
   "source": [
    "a = \"Pakistan ZindaBad\" # after 75 spaces it will be placed\n",
    "print(a.center(75))"
   ]
  },
  {
   "cell_type": "code",
   "execution_count": 40,
   "id": "50cb3952",
   "metadata": {},
   "outputs": [
    {
     "name": "stdout",
     "output_type": "stream",
     "text": [
      "4\n",
      "2\n"
     ]
    }
   ],
   "source": [
    "a = \"Pakistan ZindaBad\" #this will count how many letters in the sentence\n",
    "print(a.count(\"a\"))\n",
    "print(a.count(\"i\"))"
   ]
  },
  {
   "cell_type": "code",
   "execution_count": 62,
   "id": "4c4be609",
   "metadata": {},
   "outputs": [
    {
     "name": "stdout",
     "output_type": "stream",
     "text": [
      "b'Pakistan ZindaBad'\n"
     ]
    }
   ],
   "source": [
    "a = \"Pakistan ZindaBad\"\n",
    "print(a.encode(\"cp1252\"))"
   ]
  },
  {
   "cell_type": "code",
   "execution_count": 45,
   "id": "d4c70ba1",
   "metadata": {},
   "outputs": [
    {
     "name": "stdout",
     "output_type": "stream",
     "text": [
      "False\n",
      "True\n"
     ]
    }
   ],
   "source": [
    "a = \"Pakistan ZindaBad\" # it shows whether statement true/false\n",
    "print(a.endswith(\"s\"))\n",
    "print(a.endswith(\"d\"))"
   ]
  },
  {
   "cell_type": "code",
   "execution_count": 66,
   "id": "284fcc04",
   "metadata": {},
   "outputs": [
    {
     "name": "stdout",
     "output_type": "stream",
     "text": [
      "\n",
      "      \"Pakistan ZindaBAd\"\n",
      "\n",
      "                                    \"Pakistan ZindaBAd\"\n"
     ]
    }
   ],
   "source": [
    "a ='''\n",
    "\\t \"Pakistan ZindaBAd\"''' \n",
    "print(a.expandtabs(5))\n",
    "print(a.expandtabs(35))"
   ]
  },
  {
   "cell_type": "code",
   "execution_count": 55,
   "id": "2f0c9768",
   "metadata": {},
   "outputs": [
    {
     "name": "stdout",
     "output_type": "stream",
     "text": [
      "14\n",
      "0\n"
     ]
    }
   ],
   "source": [
    "a = \"Pakistan ZindaBAd\" # find the index of letter in the sentence\n",
    "print(a.find(\"B\"))\n",
    "print(a.find(\"P\"))"
   ]
  },
  {
   "cell_type": "code",
   "execution_count": 91,
   "id": "1569bfd1",
   "metadata": {},
   "outputs": [
    {
     "name": "stdout",
     "output_type": "stream",
     "text": [
      "Pakistan ZindaBad\n"
     ]
    }
   ],
   "source": [
    "a = \"Pakistan ZindaBad\"\n",
    "b = \"I love my Country\"\n",
    "card =f'''\n",
    "a = {a}\n",
    "b = {b}\n",
    "'''\n",
    "print (card)"
   ]
  },
  {
   "cell_type": "code",
   "execution_count": 98,
   "id": "9dcf89fc",
   "metadata": {},
   "outputs": [
    {
     "name": "stdout",
     "output_type": "stream",
     "text": [
      "Pakitan ZindaBad\n"
     ]
    }
   ],
   "source": [
    "a = \"Pakitan ZindaBad\"\n",
    "\n",
    "print(a.format_map(\"a\"))"
   ]
  },
  {
   "cell_type": "code",
   "execution_count": 104,
   "id": "65d3b329",
   "metadata": {},
   "outputs": [
    {
     "name": "stdout",
     "output_type": "stream",
     "text": [
      "9\n"
     ]
    }
   ],
   "source": [
    "a = \"Pakistan ZindaBad\" #shows the index of the letter but whatcomes first\n",
    "print(a.index(\"Z\"))"
   ]
  },
  {
   "cell_type": "code",
   "execution_count": 126,
   "id": "75cc791e",
   "metadata": {},
   "outputs": [
    {
     "name": "stdout",
     "output_type": "stream",
     "text": [
      "True\n",
      "False\n"
     ]
    }
   ],
   "source": [
    "a = \"PakistanZindaBad\"\n",
    "print(a.isalnum())\n",
    "\n",
    "b=\"Pakistan ZindaBad\"\n",
    "print(b.isalnum())"
   ]
  },
  {
   "cell_type": "code",
   "execution_count": 129,
   "id": "be2eca27",
   "metadata": {},
   "outputs": [
    {
     "name": "stdout",
     "output_type": "stream",
     "text": [
      "False\n",
      "True\n"
     ]
    }
   ],
   "source": [
    "a = \"Paksitan ZindaBad\"\n",
    "\n",
    "print(a.isalpha())\n",
    "\n",
    "b = \"PakistanZindaBad\"\n",
    "print(b.isalpha())"
   ]
  },
  {
   "cell_type": "code",
   "execution_count": 135,
   "id": "49651ca1",
   "metadata": {},
   "outputs": [
    {
     "name": "stdout",
     "output_type": "stream",
     "text": [
      "True\n"
     ]
    }
   ],
   "source": [
    "a = \"Pakistan ZindaBad\"\n",
    "\n",
    "print(a.isascii())\n"
   ]
  },
  {
   "cell_type": "code",
   "execution_count": 140,
   "id": "2384edf2",
   "metadata": {},
   "outputs": [
    {
     "name": "stdout",
     "output_type": "stream",
     "text": [
      "False\n"
     ]
    }
   ],
   "source": [
    "a = \"Pakistan ZindaBad\"\n",
    "print(a.isdecimal())\n"
   ]
  },
  {
   "cell_type": "code",
   "execution_count": 144,
   "id": "0ac16689",
   "metadata": {},
   "outputs": [
    {
     "name": "stdout",
     "output_type": "stream",
     "text": [
      "False\n",
      "True\n"
     ]
    }
   ],
   "source": [
    "a = \"Pakistan ZindaBad\" # id figit then true otherwise false\n",
    "print(a.isdigit())\n",
    "\n",
    "b = \"31\"\n",
    "print(b.isdigit())"
   ]
  },
  {
   "cell_type": "code",
   "execution_count": 149,
   "id": "dd65b21b",
   "metadata": {},
   "outputs": [
    {
     "name": "stdout",
     "output_type": "stream",
     "text": [
      "False\n",
      "True\n"
     ]
    }
   ],
   "source": [
    "a = \"Pakistan ZindaBad\"\n",
    "print(a.isidentifier())\n",
    "\n",
    "b = \"PakistanZindaBad\"\n",
    "print(b.isidentifier())"
   ]
  },
  {
   "cell_type": "code",
   "execution_count": 151,
   "id": "3bd75e5f",
   "metadata": {},
   "outputs": [
    {
     "name": "stdout",
     "output_type": "stream",
     "text": [
      "True\n"
     ]
    }
   ],
   "source": [
    "a = \"pakistan\" #if every letter is lower case then true\n",
    "print (a.islower())"
   ]
  },
  {
   "cell_type": "code",
   "execution_count": 157,
   "id": "59190bfc",
   "metadata": {},
   "outputs": [
    {
     "name": "stdout",
     "output_type": "stream",
     "text": [
      "False\n",
      "True\n"
     ]
    }
   ],
   "source": [
    "a = \"09sheza\" #if only number in a sentence then true\n",
    "print (a.isnumeric())\n",
    "\n",
    "b= \"9\"\n",
    "print (b.isnumeric())"
   ]
  },
  {
   "cell_type": "code",
   "execution_count": 160,
   "id": "f708bf89",
   "metadata": {},
   "outputs": [
    {
     "name": "stdout",
     "output_type": "stream",
     "text": [
      "True\n"
     ]
    }
   ],
   "source": [
    "a = \"Sheza Shams\"\n",
    "print(a.isprintable())\n"
   ]
  },
  {
   "cell_type": "code",
   "execution_count": 169,
   "id": "0002d525",
   "metadata": {},
   "outputs": [
    {
     "name": "stdout",
     "output_type": "stream",
     "text": [
      "False\n"
     ]
    }
   ],
   "source": [
    "a = \"Sheza Shams\"\n",
    "print(a.isspace())"
   ]
  },
  {
   "cell_type": "code",
   "execution_count": 172,
   "id": "e76b4e4b",
   "metadata": {},
   "outputs": [
    {
     "name": "stdout",
     "output_type": "stream",
     "text": [
      "False\n",
      "True\n"
     ]
    }
   ],
   "source": [
    "a = \"sheza Shams\" # sentence case then true\n",
    "print(a.istitle())\n",
    "b = \"Sheza Shams\"\n",
    "print(b.istitle())"
   ]
  },
  {
   "cell_type": "code",
   "execution_count": 175,
   "id": "219d54df",
   "metadata": {},
   "outputs": [
    {
     "name": "stdout",
     "output_type": "stream",
     "text": [
      "False\n",
      "True\n"
     ]
    }
   ],
   "source": [
    "a = \"Sheza Shams\" #only true if all letter uppercase\n",
    "print(a.isupper())\n",
    "b = \"SHEZA SHAMS\"\n",
    "print(b.isupper())"
   ]
  },
  {
   "cell_type": "code",
   "execution_count": 191,
   "id": "05236be6",
   "metadata": {},
   "outputs": [
    {
     "name": "stdout",
     "output_type": "stream",
     "text": [
      "hSheza Shamsi\n"
     ]
    }
   ],
   "source": [
    "a = \"Sheza Shams\" \n",
    "print(a.join(\"hi\"))"
   ]
  },
  {
   "cell_type": "code",
   "execution_count": 217,
   "id": "df59071e",
   "metadata": {},
   "outputs": [
    {
     "name": "stdout",
     "output_type": "stream",
     "text": [
      "Sheza Shams\n"
     ]
    }
   ],
   "source": [
    "a = \"Sheza Shams\"\n",
    "print(a.ljust(10))"
   ]
  },
  {
   "cell_type": "code",
   "execution_count": 218,
   "id": "18b2e6dd",
   "metadata": {},
   "outputs": [
    {
     "name": "stdout",
     "output_type": "stream",
     "text": [
      "sheza shams\n"
     ]
    }
   ],
   "source": [
    "a = \"Sheza Shams\" # all transform into lowercase\n",
    "print(a.lower())"
   ]
  },
  {
   "cell_type": "code",
   "execution_count": 223,
   "id": "2631b58f",
   "metadata": {},
   "outputs": [
    {
     "name": "stdout",
     "output_type": "stream",
     "text": [
      "Sheza Shams\n"
     ]
    }
   ],
   "source": [
    "a = \"Sheza Shams\" # all transform into lowercase\n",
    "print(a.lstrip())\n"
   ]
  },
  {
   "cell_type": "code",
   "execution_count": 233,
   "id": "b31c1773",
   "metadata": {},
   "outputs": [
    {
     "name": "stdout",
     "output_type": "stream",
     "text": [
      "Pakistan Zindabad\n"
     ]
    }
   ],
   "source": [
    "a = \"abcdPakistan Zindabad\" # removes the letters which are initials\n",
    "print(a.removeprefix(\"abcd\"))"
   ]
  },
  {
   "cell_type": "code",
   "execution_count": 235,
   "id": "8457c40b",
   "metadata": {},
   "outputs": [
    {
     "name": "stdout",
     "output_type": "stream",
     "text": [
      "Pakistan Zindabad\n"
     ]
    }
   ],
   "source": [
    "a = \"Pakistan Zindabadabcd\" # removes the mentioned letters which are in the last\n",
    "print(a.removesuffix(\"abcd\"))"
   ]
  },
  {
   "cell_type": "code",
   "execution_count": 241,
   "id": "0322f08d",
   "metadata": {},
   "outputs": [
    {
     "name": "stdout",
     "output_type": "stream",
     "text": [
      "Pakistan hello hello\n"
     ]
    }
   ],
   "source": [
    "a = \"Pakistan Zindabad Zindabad\" # replace the word with another word whereever in the sentence\n",
    "print(a.replace(\"Zindabad\",\"hello\"))"
   ]
  },
  {
   "cell_type": "code",
   "execution_count": 251,
   "id": "d4a14bca",
   "metadata": {
    "scrolled": true
   },
   "outputs": [
    {
     "name": "stdout",
     "output_type": "stream",
     "text": [
      "9\n"
     ]
    }
   ],
   "source": [
    "a = \"Pakistan Zindabad\" # find the index of the letter\n",
    "print(a.rfind(\"Z\"))"
   ]
  },
  {
   "cell_type": "code",
   "execution_count": 247,
   "id": "90a36074",
   "metadata": {},
   "outputs": [
    {
     "name": "stdout",
     "output_type": "stream",
     "text": [
      "16\n"
     ]
    }
   ],
   "source": [
    "a = \"Pakistan Zindabad\" # find the index of the letter\n",
    "print(a.rindex(\"d\"))"
   ]
  },
  {
   "cell_type": "code",
   "execution_count": 259,
   "id": "9103ccd5",
   "metadata": {},
   "outputs": [
    {
     "name": "stdout",
     "output_type": "stream",
     "text": [
      "Pakistan Zindabad\n"
     ]
    }
   ],
   "source": [
    "a = \"Pakistan Zindabad\" \n",
    "print(a.rjust(12))"
   ]
  },
  {
   "cell_type": "code",
   "execution_count": 264,
   "id": "f3950c20",
   "metadata": {},
   "outputs": [
    {
     "name": "stdout",
     "output_type": "stream",
     "text": [
      "('Pakistan Zindab', 'a', 'd')\n"
     ]
    }
   ],
   "source": [
    "a = \"Pakistan Zindabad\" #separate last occurance of the string\n",
    "print(a.rpartition(\"a\"))\n"
   ]
  },
  {
   "cell_type": "code",
   "execution_count": 265,
   "id": "9f689725",
   "metadata": {},
   "outputs": [
    {
     "name": "stdout",
     "output_type": "stream",
     "text": [
      "['Sheza', 'Shams']\n"
     ]
    }
   ],
   "source": [
    "a = \"Sheza Shams\"\n",
    "print(a.rsplit())"
   ]
  },
  {
   "cell_type": "code",
   "execution_count": 266,
   "id": "f826633c",
   "metadata": {},
   "outputs": [
    {
     "name": "stdout",
     "output_type": "stream",
     "text": [
      "['Sheza Shams']\n"
     ]
    }
   ],
   "source": [
    "a= \"Sheza Shams\"\n",
    "print(a.splitlines())"
   ]
  },
  {
   "cell_type": "code",
   "execution_count": 267,
   "id": "efa664cc",
   "metadata": {},
   "outputs": [
    {
     "name": "stdout",
     "output_type": "stream",
     "text": [
      "False\n"
     ]
    }
   ],
   "source": [
    "a= \"Sheza Shams\" #statement to check true or false\n",
    "print(a.startswith(\"h\"))"
   ]
  },
  {
   "cell_type": "code",
   "execution_count": 271,
   "id": "c8f76af4",
   "metadata": {},
   "outputs": [
    {
     "name": "stdout",
     "output_type": "stream",
     "text": [
      "Pakistan\n"
     ]
    }
   ],
   "source": [
    "a= \"Pakistan\"\n",
    "print(a.strip())"
   ]
  },
  {
   "cell_type": "code",
   "execution_count": 272,
   "id": "9b939fb7",
   "metadata": {},
   "outputs": [
    {
     "name": "stdout",
     "output_type": "stream",
     "text": [
      "pAKISTAN\n"
     ]
    }
   ],
   "source": [
    "a= \"Pakistan\" #all letters case swaped with lower or upper\n",
    "print(a.swapcase())"
   ]
  },
  {
   "cell_type": "code",
   "execution_count": 274,
   "id": "330dcae6",
   "metadata": {},
   "outputs": [
    {
     "name": "stdout",
     "output_type": "stream",
     "text": [
      "Pakistan\n"
     ]
    }
   ],
   "source": [
    "a= \"pakistan\" #title only capital letter first alphabet\n",
    "print(a.title())"
   ]
  },
  {
   "cell_type": "code",
   "execution_count": 276,
   "id": "660431fa",
   "metadata": {},
   "outputs": [
    {
     "name": "stdout",
     "output_type": "stream",
     "text": [
      "PAKISTAN\n"
     ]
    }
   ],
   "source": [
    "a= \"pakistan\" # all uppercase\n",
    "print(a.upper())"
   ]
  }
 ],
 "metadata": {
  "kernelspec": {
   "display_name": "Python 3 (ipykernel)",
   "language": "python",
   "name": "python3"
  },
  "language_info": {
   "codemirror_mode": {
    "name": "ipython",
    "version": 3
   },
   "file_extension": ".py",
   "mimetype": "text/x-python",
   "name": "python",
   "nbconvert_exporter": "python",
   "pygments_lexer": "ipython3",
   "version": "3.9.13"
  }
 },
 "nbformat": 4,
 "nbformat_minor": 5
}
